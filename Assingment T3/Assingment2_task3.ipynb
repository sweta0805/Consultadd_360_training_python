{
 "cells": [
  {
   "cell_type": "markdown",
   "id": "pressed-efficiency",
   "metadata": {},
   "source": [
    "# TASK 3"
   ]
  },
  {
   "cell_type": "markdown",
   "id": "dense-stand",
   "metadata": {},
   "source": [
    "## DATA STRUCTURE"
   ]
  },
  {
   "cell_type": "markdown",
   "id": "entire-beast",
   "metadata": {},
   "source": [
    "### 1. Create a list of 10 elements of four different data types like int, string, complex and float."
   ]
  },
  {
   "cell_type": "code",
   "execution_count": 12,
   "id": "unavailable-employer",
   "metadata": {},
   "outputs": [],
   "source": [
    "list = [10,\"Welcome\",\"2+3j\",5.50,25,\"7+4j\",\"Consultadd\",7,8.90,11]"
   ]
  },
  {
   "cell_type": "code",
   "execution_count": 13,
   "id": "british-beads",
   "metadata": {},
   "outputs": [
    {
     "name": "stdout",
     "output_type": "stream",
     "text": [
      "[10, 'Welcome', '2+3j', 5.5, 25, '7+4j', 'Consultadd', 7, 8.9, 11]\n"
     ]
    }
   ],
   "source": [
    "print(list)"
   ]
  },
  {
   "cell_type": "markdown",
   "id": "chemical-donna",
   "metadata": {},
   "source": [
    "### 2. Create a list of size 5 and execute the slicing structure"
   ]
  },
  {
   "cell_type": "code",
   "execution_count": 2,
   "id": "bulgarian-colon",
   "metadata": {},
   "outputs": [],
   "source": [
    "slicing_list = [2,3,6,7,9]"
   ]
  },
  {
   "cell_type": "code",
   "execution_count": 3,
   "id": "attempted-borough",
   "metadata": {},
   "outputs": [
    {
     "data": {
      "text/plain": [
       "[6]"
      ]
     },
     "execution_count": 3,
     "metadata": {},
     "output_type": "execute_result"
    }
   ],
   "source": [
    "slicing_list[2:3]"
   ]
  },
  {
   "cell_type": "code",
   "execution_count": 4,
   "id": "demanding-uncertainty",
   "metadata": {},
   "outputs": [
    {
     "data": {
      "text/plain": [
       "[2]"
      ]
     },
     "execution_count": 4,
     "metadata": {},
     "output_type": "execute_result"
    }
   ],
   "source": [
    "slicing_list[:-4]"
   ]
  },
  {
   "cell_type": "code",
   "execution_count": 5,
   "id": "dynamic-infection",
   "metadata": {},
   "outputs": [
    {
     "data": {
      "text/plain": [
       "[3, 6, 7, 9]"
      ]
     },
     "execution_count": 5,
     "metadata": {},
     "output_type": "execute_result"
    }
   ],
   "source": [
    "slicing_list[1:5]"
   ]
  },
  {
   "cell_type": "code",
   "execution_count": 6,
   "id": "cordless-medicaid",
   "metadata": {},
   "outputs": [
    {
     "data": {
      "text/plain": [
       "[2, 3, 6, 7, 9]"
      ]
     },
     "execution_count": 6,
     "metadata": {},
     "output_type": "execute_result"
    }
   ],
   "source": [
    "slicing_list[::1]"
   ]
  },
  {
   "cell_type": "markdown",
   "id": "fifty-southwest",
   "metadata": {},
   "source": [
    "### 3. Write a program to get the sum and multiply of all the items in a given list."
   ]
  },
  {
   "cell_type": "code",
   "execution_count": 33,
   "id": "later-appearance",
   "metadata": {},
   "outputs": [],
   "source": [
    "sum = map(lambda x,y:x+y,[10,20,30,40,50])"
   ]
  },
  {
   "cell_type": "code",
   "execution_count": 34,
   "id": "insured-russia",
   "metadata": {},
   "outputs": [
    {
     "name": "stdout",
     "output_type": "stream",
     "text": [
      "<map object at 0x0000023E05A8D7C8>\n"
     ]
    }
   ],
   "source": [
    "print(sum)"
   ]
  },
  {
   "cell_type": "code",
   "execution_count": 35,
   "id": "streaming-effectiveness",
   "metadata": {},
   "outputs": [
    {
     "ename": "TypeError",
     "evalue": "'list' object is not callable",
     "output_type": "error",
     "traceback": [
      "\u001b[1;31m---------------------------------------------------------------------------\u001b[0m",
      "\u001b[1;31mTypeError\u001b[0m                                 Traceback (most recent call last)",
      "\u001b[1;32m<ipython-input-35-15976b208d5d>\u001b[0m in \u001b[0;36m<module>\u001b[1;34m\u001b[0m\n\u001b[1;32m----> 1\u001b[1;33m \u001b[0mprint\u001b[0m\u001b[1;33m(\u001b[0m\u001b[0mlist\u001b[0m\u001b[1;33m(\u001b[0m\u001b[0msum\u001b[0m\u001b[1;33m)\u001b[0m\u001b[1;33m)\u001b[0m\u001b[1;33m\u001b[0m\u001b[1;33m\u001b[0m\u001b[0m\n\u001b[0m",
      "\u001b[1;31mTypeError\u001b[0m: 'list' object is not callable"
     ]
    }
   ],
   "source": [
    "print(list(sum))"
   ]
  },
  {
   "cell_type": "code",
   "execution_count": 37,
   "id": "sustained-prerequisite",
   "metadata": {},
   "outputs": [],
   "source": [
    "Multiply = map(lambda x,y:x*y,[10,20,30,40,50])"
   ]
  },
  {
   "cell_type": "code",
   "execution_count": 38,
   "id": "religious-intro",
   "metadata": {},
   "outputs": [
    {
     "name": "stdout",
     "output_type": "stream",
     "text": [
      "<map object at 0x0000023E05A9EA08>\n"
     ]
    }
   ],
   "source": [
    "print(Multiply)"
   ]
  },
  {
   "cell_type": "code",
   "execution_count": 39,
   "id": "pleased-visit",
   "metadata": {},
   "outputs": [
    {
     "ename": "TypeError",
     "evalue": "'list' object is not callable",
     "output_type": "error",
     "traceback": [
      "\u001b[1;31m---------------------------------------------------------------------------\u001b[0m",
      "\u001b[1;31mTypeError\u001b[0m                                 Traceback (most recent call last)",
      "\u001b[1;32m<ipython-input-39-e4721a18d7d4>\u001b[0m in \u001b[0;36m<module>\u001b[1;34m\u001b[0m\n\u001b[1;32m----> 1\u001b[1;33m \u001b[0mprint\u001b[0m\u001b[1;33m(\u001b[0m\u001b[0mlist\u001b[0m\u001b[1;33m(\u001b[0m\u001b[0mMultiply\u001b[0m\u001b[1;33m)\u001b[0m\u001b[1;33m)\u001b[0m\u001b[1;33m\u001b[0m\u001b[1;33m\u001b[0m\u001b[0m\n\u001b[0m",
      "\u001b[1;31mTypeError\u001b[0m: 'list' object is not callable"
     ]
    }
   ],
   "source": [
    "print(list(Multiply))"
   ]
  },
  {
   "cell_type": "markdown",
   "id": "relative-circuit",
   "metadata": {},
   "source": [
    "### 4. Find the largest and smallest number from a given list."
   ]
  },
  {
   "cell_type": "code",
   "execution_count": 42,
   "id": "registered-database",
   "metadata": {},
   "outputs": [
    {
     "name": "stdout",
     "output_type": "stream",
     "text": [
      "[23, 37, 43, 49, 67, 89, 99]\n"
     ]
    }
   ],
   "source": [
    "numbers =[37,23,67,89,43,99,49]\n",
    "numbers.sort()\n",
    "print(numbers)"
   ]
  },
  {
   "cell_type": "code",
   "execution_count": 45,
   "id": "saved-newman",
   "metadata": {},
   "outputs": [
    {
     "name": "stdout",
     "output_type": "stream",
     "text": [
      "Largest Number: 23\n",
      "Smallest Number: 99\n"
     ]
    }
   ],
   "source": [
    "print(\"Largest Number:\",numbers[0])\n",
    "print(\"Smallest Number:\",numbers[-1])"
   ]
  },
  {
   "cell_type": "markdown",
   "id": "sunrise-solution",
   "metadata": {},
   "source": [
    "### 5. Create a new list which contains the specified numbers after removing the even numbers from a predefined list."
   ]
  },
  {
   "cell_type": "code",
   "execution_count": 1,
   "id": "seventh-funds",
   "metadata": {},
   "outputs": [
    {
     "name": "stdout",
     "output_type": "stream",
     "text": [
      "[7, 25, 27]\n"
     ]
    }
   ],
   "source": [
    "num = [7,8, 120, 25, 44, 20, 27]\n",
    "num = [x for x in num if x%2!=0]\n",
    "print(num)"
   ]
  },
  {
   "cell_type": "markdown",
   "id": "disturbed-playback",
   "metadata": {},
   "source": [
    "### 6. Create a list of elements such that it contains the squares of the first and last 5 elements between 1 and30 (both included)."
   ]
  },
  {
   "cell_type": "code",
   "execution_count": 51,
   "id": "treated-romania",
   "metadata": {},
   "outputs": [
    {
     "ename": "TypeError",
     "evalue": "'list' object is not callable",
     "output_type": "error",
     "traceback": [
      "\u001b[1;31m---------------------------------------------------------------------------\u001b[0m",
      "\u001b[1;31mTypeError\u001b[0m                                 Traceback (most recent call last)",
      "\u001b[1;32m<ipython-input-51-cb5c3e33bef7>\u001b[0m in \u001b[0;36m<module>\u001b[1;34m\u001b[0m\n\u001b[0;32m      6\u001b[0m     \u001b[0mprint\u001b[0m\u001b[1;33m(\u001b[0m\u001b[0ml\u001b[0m\u001b[1;33m[\u001b[0m\u001b[1;33m:\u001b[0m\u001b[1;33m-\u001b[0m\u001b[1;36m5\u001b[0m\u001b[1;33m]\u001b[0m\u001b[1;33m)\u001b[0m\u001b[1;33m\u001b[0m\u001b[1;33m\u001b[0m\u001b[0m\n\u001b[0;32m      7\u001b[0m \u001b[1;33m\u001b[0m\u001b[0m\n\u001b[1;32m----> 8\u001b[1;33m \u001b[0mprintValues\u001b[0m\u001b[1;33m(\u001b[0m\u001b[1;33m)\u001b[0m\u001b[1;33m\u001b[0m\u001b[1;33m\u001b[0m\u001b[0m\n\u001b[0m\u001b[0;32m      9\u001b[0m \u001b[1;33m\u001b[0m\u001b[0m\n",
      "\u001b[1;32m<ipython-input-51-cb5c3e33bef7>\u001b[0m in \u001b[0;36mprintValues\u001b[1;34m()\u001b[0m\n\u001b[0;32m      1\u001b[0m \u001b[1;32mdef\u001b[0m \u001b[0mprintValues\u001b[0m\u001b[1;33m(\u001b[0m\u001b[1;33m)\u001b[0m\u001b[1;33m:\u001b[0m\u001b[1;33m\u001b[0m\u001b[1;33m\u001b[0m\u001b[0m\n\u001b[1;32m----> 2\u001b[1;33m     \u001b[0ml\u001b[0m \u001b[1;33m=\u001b[0m \u001b[0mlist\u001b[0m\u001b[1;33m(\u001b[0m\u001b[1;33m)\u001b[0m\u001b[1;33m\u001b[0m\u001b[1;33m\u001b[0m\u001b[0m\n\u001b[0m\u001b[0;32m      3\u001b[0m     \u001b[1;32mfor\u001b[0m \u001b[0mi\u001b[0m \u001b[1;32min\u001b[0m \u001b[0mrange\u001b[0m\u001b[1;33m(\u001b[0m\u001b[1;36m1\u001b[0m\u001b[1;33m,\u001b[0m\u001b[1;36m31\u001b[0m\u001b[1;33m)\u001b[0m\u001b[1;33m:\u001b[0m\u001b[1;33m\u001b[0m\u001b[1;33m\u001b[0m\u001b[0m\n\u001b[0;32m      4\u001b[0m         \u001b[0ml\u001b[0m\u001b[1;33m.\u001b[0m\u001b[0mappend\u001b[0m\u001b[1;33m(\u001b[0m\u001b[0mi\u001b[0m\u001b[1;33m**\u001b[0m\u001b[1;36m2\u001b[0m\u001b[1;33m)\u001b[0m\u001b[1;33m\u001b[0m\u001b[1;33m\u001b[0m\u001b[0m\n\u001b[0;32m      5\u001b[0m     \u001b[0mprint\u001b[0m\u001b[1;33m(\u001b[0m\u001b[0ml\u001b[0m\u001b[1;33m[\u001b[0m\u001b[1;33m:\u001b[0m\u001b[1;36m5\u001b[0m\u001b[1;33m]\u001b[0m\u001b[1;33m)\u001b[0m\u001b[1;33m\u001b[0m\u001b[1;33m\u001b[0m\u001b[0m\n",
      "\u001b[1;31mTypeError\u001b[0m: 'list' object is not callable"
     ]
    }
   ],
   "source": [
    "def printValues():\n",
    "    l = list()\n",
    "    for i in range(1,31):\n",
    "        l.append(i**2)\n",
    "    print(l[:5])\n",
    "    print(l[:-5])\n",
    "\n",
    "printValues() \n",
    "    "
   ]
  },
  {
   "cell_type": "markdown",
   "id": "cardiac-dayton",
   "metadata": {},
   "source": [
    "### 7. Write a program to replace the last element in a list with another list."
   ]
  },
  {
   "cell_type": "code",
   "execution_count": 52,
   "id": "upset-period",
   "metadata": {},
   "outputs": [
    {
     "name": "stdout",
     "output_type": "stream",
     "text": [
      "[1, 3, 5, 7, 9, 2, 4, 6, 8]\n"
     ]
    }
   ],
   "source": [
    "num1 = [1, 3, 5, 7, 9, 10]\n",
    "num2 = [2, 4, 6, 8]\n",
    "num1[-1:] = num2\n",
    "print(num1)"
   ]
  },
  {
   "cell_type": "markdown",
   "id": "russian-phenomenon",
   "metadata": {},
   "source": [
    "### 8. Create a new dictionary by concatenating the following two dictionaries:"
   ]
  },
  {
   "cell_type": "code",
   "execution_count": 60,
   "id": "alert-ownership",
   "metadata": {},
   "outputs": [],
   "source": [
    "#Sample input: a={1:10,2:20} b={3:30,4:40}\n",
    "#Expected output: {1:10,2:20,3:30,4:40}"
   ]
  },
  {
   "cell_type": "code",
   "execution_count": 70,
   "id": "historical-offset",
   "metadata": {},
   "outputs": [
    {
     "name": "stdout",
     "output_type": "stream",
     "text": [
      "{1: 10, 2: 20, 3: 30, 4: 40}\n"
     ]
    }
   ],
   "source": [
    "dict_1 = {1:10,2:20}\n",
    "dict_2 = {3:30,4:40}\n",
    "new_dict = dict_1.copy()\n",
    "new_dict.update(dict_2)\n",
    "print(new_dict)"
   ]
  },
  {
   "cell_type": "markdown",
   "id": "gross-transformation",
   "metadata": {},
   "source": [
    "### 9. Create a dictionary that contain numbers in the form(x:x*x) where x takes all the values between 1 and n(both 1 and n included).\n"
   ]
  },
  {
   "cell_type": "code",
   "execution_count": null,
   "id": "encouraging-semester",
   "metadata": {},
   "outputs": [],
   "source": [
    "#Sample input: n=5\n",
    "#Expected output: {1:1, 2:4, 3:9, 4:16, 5:25}"
   ]
  },
  {
   "cell_type": "code",
   "execution_count": 72,
   "id": "leading-river",
   "metadata": {},
   "outputs": [
    {
     "name": "stdout",
     "output_type": "stream",
     "text": [
      "{1: 1, 2: 4, 3: 9, 4: 16, 5: 25, 6: 36, 7: 49, 8: 64, 9: 81, 10: 100}\n"
     ]
    }
   ],
   "source": [
    "d = dict()\n",
    "for i in range(1,11):\n",
    "    d[i]= i**2\n",
    "print(d)"
   ]
  },
  {
   "cell_type": "markdown",
   "id": "stock-champagne",
   "metadata": {},
   "source": [
    "### 10. Write a program which accepts a sequence of comma-separated numbers from console and generates a list and a tuple which contains every number in the form of string."
   ]
  },
  {
   "cell_type": "code",
   "execution_count": null,
   "id": "future-participation",
   "metadata": {},
   "outputs": [],
   "source": [
    "#Sample input: 34,67,55,33,12,98\n",
    "#Expected output: [‘34’,’67’,’55’,’33’,’12’,’98’] (‘34’,’67’,’55’,’33’,’12’,’98’)"
   ]
  },
  {
   "cell_type": "code",
   "execution_count": null,
   "id": "generous-castle",
   "metadata": {},
   "outputs": [],
   "source": []
  }
 ],
 "metadata": {
  "kernelspec": {
   "display_name": "Python 3",
   "language": "python",
   "name": "python3"
  },
  "language_info": {
   "codemirror_mode": {
    "name": "ipython",
    "version": 3
   },
   "file_extension": ".py",
   "mimetype": "text/x-python",
   "name": "python",
   "nbconvert_exporter": "python",
   "pygments_lexer": "ipython3",
   "version": "3.7.9"
  }
 },
 "nbformat": 4,
 "nbformat_minor": 5
}
