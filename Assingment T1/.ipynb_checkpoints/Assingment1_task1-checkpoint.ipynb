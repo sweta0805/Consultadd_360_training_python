{
 "cells": [
  {
   "cell_type": "markdown",
   "id": "fossil-arrangement",
   "metadata": {},
   "source": [
    "## TASK 1"
   ]
  },
  {
   "cell_type": "markdown",
   "id": "literary-target",
   "metadata": {},
   "source": [
    "### 1. Create three variables in a single line and assign values to them in such a manner that each one of them belongs to a different data type."
   ]
  },
  {
   "cell_type": "code",
   "execution_count": 1,
   "id": "infinite-shanghai",
   "metadata": {},
   "outputs": [],
   "source": [
    "x = 10\n",
    "y = 20.5\n",
    "z = \"Consultadd\""
   ]
  },
  {
   "cell_type": "markdown",
   "id": "synthetic-herald",
   "metadata": {},
   "source": [
    "### 2. Create a variable of type complex and swap it with another variable of type integer."
   ]
  },
  {
   "cell_type": "code",
   "execution_count": 2,
   "id": "virgin-requirement",
   "metadata": {},
   "outputs": [
    {
     "name": "stdout",
     "output_type": "stream",
     "text": [
      "<class 'complex'>\n"
     ]
    }
   ],
   "source": [
    "x = 5+2j\n",
    "print(type(x))"
   ]
  },
  {
   "cell_type": "code",
   "execution_count": 3,
   "id": "dying-rider",
   "metadata": {},
   "outputs": [
    {
     "name": "stdout",
     "output_type": "stream",
     "text": [
      "<class 'int'>\n"
     ]
    }
   ],
   "source": [
    "x = 5\n",
    "print(type(x))"
   ]
  },
  {
   "cell_type": "markdown",
   "id": "ruled-deadline",
   "metadata": {},
   "source": [
    "### 3. Swap two numbers using a third variable and do the same task without using any third variable."
   ]
  },
  {
   "cell_type": "code",
   "execution_count": 4,
   "id": "compatible-david",
   "metadata": {},
   "outputs": [
    {
     "name": "stdout",
     "output_type": "stream",
     "text": [
      "x = 10\n",
      "y = 5\n"
     ]
    }
   ],
   "source": [
    "#Swap two variable using third variable\n",
    "x = 5\n",
    "y = 10\n",
    "z = y \n",
    "y = x  \n",
    "x = z\n",
    "print(\"x =\", x)\n",
    "print(\"y =\", y)"
   ]
  },
  {
   "cell_type": "code",
   "execution_count": 5,
   "id": "spatial-abraham",
   "metadata": {},
   "outputs": [
    {
     "name": "stdout",
     "output_type": "stream",
     "text": [
      "x = 10\n",
      "y = 5\n"
     ]
    }
   ],
   "source": [
    "#Swap two variable without using third variable\n",
    "x = 5\n",
    "y = 10\n",
    "\n",
    "x, y = y, x\n",
    "print(\"x =\", x)\n",
    "print(\"y =\", y)"
   ]
  },
  {
   "cell_type": "markdown",
   "id": "juvenile-lesson",
   "metadata": {},
   "source": [
    "### 4. Write a program that takes input from the user and prints it using both Python 2.x and Python 3.x\n",
    "Version."
   ]
  },
  {
   "cell_type": "code",
   "execution_count": 6,
   "id": "vocational-doubt",
   "metadata": {},
   "outputs": [
    {
     "data": {
      "text/plain": [
       "\"x = 10\\nin python 2.x if we print print x it will work \\nbut in python 3.x it didn't work \\nx = 10\\ninstead of print x, print(x) will work hence print act like a function in python 3.x\""
      ]
     },
     "execution_count": 6,
     "metadata": {},
     "output_type": "execute_result"
    }
   ],
   "source": [
    "'''x = 10\n",
    "in python 2.x if we print print x it will work \n",
    "but in python 3.x it didn't work \n",
    "x = 10\n",
    "instead of print x, print(x) will work hence print act like a function in python 3.x'''"
   ]
  },
  {
   "cell_type": "markdown",
   "id": "racial-attendance",
   "metadata": {},
   "source": [
    "### 5. Write a program to complete the task given below: Ask users to enter any 2 numbers in between 1-10 , add the two numbers and keep the sum inanother variable called z. Add 30 to z and store the output in variable result and print result as the final output."
   ]
  },
  {
   "cell_type": "code",
   "execution_count": 7,
   "id": "herbal-thomas",
   "metadata": {},
   "outputs": [
    {
     "name": "stdout",
     "output_type": "stream",
     "text": [
      "Enter a number between: 1,10: 7\n",
      "Enter a number between: 1,10: 8\n"
     ]
    },
    {
     "data": {
      "text/plain": [
       "15"
      ]
     },
     "execution_count": 7,
     "metadata": {},
     "output_type": "execute_result"
    }
   ],
   "source": [
    "x = int(input(\"Enter a number between: 1,10: \"))\n",
    "y = int(input(\"Enter a number between: 1,10: \"))\n",
    "z = x + y\n",
    "z"
   ]
  },
  {
   "cell_type": "code",
   "execution_count": 8,
   "id": "secret-satin",
   "metadata": {},
   "outputs": [
    {
     "name": "stdout",
     "output_type": "stream",
     "text": [
      "final output: 45\n"
     ]
    }
   ],
   "source": [
    "result = 30 + z\n",
    "print(\"final output:\",result)"
   ]
  },
  {
   "cell_type": "markdown",
   "id": "motivated-blame",
   "metadata": {},
   "source": [
    "### 6. Write a program to check the data type of the entered values. HINT: Printed output should say - The data type of the input value is : int/float/string/etc"
   ]
  },
  {
   "cell_type": "code",
   "execution_count": 9,
   "id": "hydraulic-cardiff",
   "metadata": {},
   "outputs": [
    {
     "name": "stdout",
     "output_type": "stream",
     "text": [
      "The data type of the input value is:  <class 'str'>\n",
      "The data type of the input value is:  <class 'int'>\n",
      "The data type of the input value is:  <class 'float'>\n",
      "The data type of the input value is:  <class 'int'>\n",
      "The data type of the input value is:  <class 'dict'>\n",
      "The data type of the input value is:  <class 'list'>\n",
      "The data type of the input value is:  <class 'tuple'>\n"
     ]
    }
   ],
   "source": [
    "str = 'AppDividend'\n",
    "print(\"The data type of the input value is: \",type(str))\n",
    "\n",
    "int = 123\n",
    "print(\"The data type of the input value is: \",type(int))\n",
    "\n",
    "float = 21.19\n",
    "print(\"The data type of the input value is: \",type(float))\n",
    "\n",
    "negative = -19\n",
    "print(\"The data type of the input value is: \",type(negative))\n",
    "\n",
    "dictionary = {'blog':'AppDividend'}\n",
    "print(\"The data type of the input value is: \",type(dictionary))\n",
    "\n",
    "list = [1, 2, 3]\n",
    "print(\"The data type of the input value is: \",type(list))\n",
    "\n",
    "tuple = (19, 21, 46)\n",
    "print(\"The data type of the input value is: \",type(tuple))"
   ]
  },
  {
   "cell_type": "markdown",
   "id": "graduate-mystery",
   "metadata": {},
   "source": [
    "### 7. Create Variables using formats such as Upper CamelCase, Lower CamelCase, SnakeCase and UPPERCASE."
   ]
  },
  {
   "cell_type": "markdown",
   "id": "talented-anime",
   "metadata": {},
   "source": [
    "Upper CamelCase - first letter of every word is capitalized eg: PerfectWord"
   ]
  },
  {
   "cell_type": "markdown",
   "id": "continuing-subdivision",
   "metadata": {},
   "source": [
    "Lower CamelCase - Having its first letter in lower case eg: iPhone, iMac"
   ]
  },
  {
   "cell_type": "markdown",
   "id": "strong-orleans",
   "metadata": {},
   "source": [
    "SnakeCase - words are separated with an underscore symbol (_) instead of a space. eg: \"hello_world\" "
   ]
  },
  {
   "cell_type": "markdown",
   "id": "loving-equilibrium",
   "metadata": {},
   "source": [
    "UPPERCASE - The upper() method converts all lowercase characters in a string into uppercase characters and returns it. eg: \"HELLO EVERYONE\""
   ]
  },
  {
   "cell_type": "markdown",
   "id": "narrative-voluntary",
   "metadata": {},
   "source": [
    "### 8. If one data type value is assigned to ‘a’ variable and then a different data type value is assigned to ‘a’ again. Will it change the value? If Yes then Why?"
   ]
  },
  {
   "cell_type": "markdown",
   "id": "worst-machinery",
   "metadata": {},
   "source": [
    "Yes, variables in Python can be reassigned to a new value that is a different data type from its current value. ... When you assign it a value, the box will contain that value, and when you reassign it, it will empty out the old value, and the new value will be placed inside of it."
   ]
  }
 ],
 "metadata": {
  "kernelspec": {
   "display_name": "Python 3",
   "language": "python",
   "name": "python3"
  },
  "language_info": {
   "codemirror_mode": {
    "name": "ipython",
    "version": 3
   },
   "file_extension": ".py",
   "mimetype": "text/x-python",
   "name": "python",
   "nbconvert_exporter": "python",
   "pygments_lexer": "ipython3",
   "version": "3.7.9"
  }
 },
 "nbformat": 4,
 "nbformat_minor": 5
}
