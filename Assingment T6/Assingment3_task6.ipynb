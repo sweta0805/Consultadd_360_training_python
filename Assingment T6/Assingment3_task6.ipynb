{
 "cells": [
  {
   "cell_type": "markdown",
   "id": "future-france",
   "metadata": {},
   "source": [
    "# TASK SIX"
   ]
  },
  {
   "cell_type": "markdown",
   "id": "increasing-spell",
   "metadata": {},
   "source": [
    "## GENERATORS, LIST COMPREHENSION AND DECORATORS"
   ]
  },
  {
   "cell_type": "markdown",
   "id": "collective-player",
   "metadata": {},
   "source": [
    "### 1. Write a program in Python to find out the character in a string which is uppercase using list comprehension."
   ]
  },
  {
   "cell_type": "code",
   "execution_count": 1,
   "id": "comic-checkout",
   "metadata": {},
   "outputs": [
    {
     "name": "stdout",
     "output_type": "stream",
     "text": [
      "['P', 'C', 'T']\n"
     ]
    }
   ],
   "source": [
    "list = [i for i in \"Python Consultadd Trainning\" if i.isupper()]\n",
    "print(list)"
   ]
  },
  {
   "cell_type": "markdown",
   "id": "entire-dominican",
   "metadata": {},
   "source": [
    "### 2. Write a program to construct a dictionary from the two lists containing the names of students and their corresponding subjects. The dictionary should map the students with their respective subjects. Let’s see how to do this using for loops and dictionary comprehension."
   ]
  },
  {
   "cell_type": "code",
   "execution_count": 2,
   "id": "noticed-constitutional",
   "metadata": {},
   "outputs": [],
   "source": [
    "#Sample input: students = ['Smit', 'Jaya', 'Rayyan'] subjects = ['CSE', 'Networking', 'Operating System']\n",
    "#Expected output: {‘Smit’ : ’CSE’ , ’Jaya’ : ’Networking’ , ’Rayyan’ : ’Operating System’}"
   ]
  },
  {
   "cell_type": "code",
   "execution_count": 3,
   "id": "tired-serbia",
   "metadata": {},
   "outputs": [
    {
     "name": "stdout",
     "output_type": "stream",
     "text": [
      "{'Smit': 'CSE', 'Jaya': 'Networking', 'Rayyan': 'Operating System'}\n"
     ]
    }
   ],
   "source": [
    "students = ['Smit', 'Jaya', 'Rayyan'] \n",
    "subjects = ['CSE', 'Networking', 'Operating System']\n",
    "\n",
    "student = zip(students,subjects)\n",
    "dict = {k:v for (k,v) in student}\n",
    "print(dict)"
   ]
  },
  {
   "cell_type": "markdown",
   "id": "verified-arcade",
   "metadata": {},
   "source": [
    "### 3. Learn More about Yield, next and Generators"
   ]
  },
  {
   "cell_type": "code",
   "execution_count": null,
   "id": "roman-carbon",
   "metadata": {},
   "outputs": [],
   "source": []
  },
  {
   "cell_type": "markdown",
   "id": "fabulous-formation",
   "metadata": {},
   "source": [
    "### 4. Write a program in Python using generators to reverse the string."
   ]
  },
  {
   "cell_type": "code",
   "execution_count": 4,
   "id": "fabulous-steering",
   "metadata": {},
   "outputs": [
    {
     "name": "stdout",
     "output_type": "stream",
     "text": [
      "gniniarT ddatlusnoC\n"
     ]
    }
   ],
   "source": [
    "def rev_str(Input_String):\n",
    "    yield Input_String[::-1]\n",
    "\n",
    "for x in rev_str(\"Consultadd Training\"):\n",
    "    print(x)"
   ]
  },
  {
   "cell_type": "markdown",
   "id": "diagnostic-eclipse",
   "metadata": {},
   "source": [
    "### 5. Write an example on decorators."
   ]
  },
  {
   "cell_type": "code",
   "execution_count": 5,
   "id": "international-attraction",
   "metadata": {},
   "outputs": [
    {
     "name": "stdout",
     "output_type": "stream",
     "text": [
      "This is printed first\n",
      "1\n",
      "This is printed second\n",
      "2\n",
      "This is printed at last\n",
      "3\n"
     ]
    }
   ],
   "source": [
    "# A simple generator function\n",
    "def my_gen():\n",
    "    n = 1\n",
    "    print('This is printed first')\n",
    "    yield n # Generator function contains yield statements\n",
    "\n",
    "    n += 1\n",
    "    print('This is printed second')\n",
    "    yield n\n",
    "\n",
    "    n += 1\n",
    "    print('This is printed at last')\n",
    "    yield n\n",
    "    \n",
    "# Using for loop\n",
    "for item in my_gen():\n",
    "    print(item)"
   ]
  },
  {
   "cell_type": "code",
   "execution_count": null,
   "id": "pleasant-worse",
   "metadata": {},
   "outputs": [],
   "source": []
  }
 ],
 "metadata": {
  "kernelspec": {
   "display_name": "Python 3",
   "language": "python",
   "name": "python3"
  },
  "language_info": {
   "codemirror_mode": {
    "name": "ipython",
    "version": 3
   },
   "file_extension": ".py",
   "mimetype": "text/x-python",
   "name": "python",
   "nbconvert_exporter": "python",
   "pygments_lexer": "ipython3",
   "version": "3.7.9"
  }
 },
 "nbformat": 4,
 "nbformat_minor": 5
}
