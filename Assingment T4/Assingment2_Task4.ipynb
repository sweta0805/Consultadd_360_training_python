{
 "cells": [
  {
   "cell_type": "markdown",
   "id": "several-recovery",
   "metadata": {},
   "source": [
    "# TASK 4"
   ]
  },
  {
   "cell_type": "markdown",
   "id": "incorporate-footwear",
   "metadata": {},
   "source": [
    "## TRADITIONAL FUNCTIONS,ANONYMOUS FUNCTIONS & HIGHER ORDER FUNCTIONS"
   ]
  },
  {
   "cell_type": "markdown",
   "id": "basic-crisis",
   "metadata": {},
   "source": [
    "### 1. Write a program to reverse a string."
   ]
  },
  {
   "cell_type": "code",
   "execution_count": 1,
   "id": "canadian-parliament",
   "metadata": {},
   "outputs": [],
   "source": [
    "#Sample input: “1234abcd”\n",
    "#Expected output: “dcba4321”"
   ]
  },
  {
   "cell_type": "code",
   "execution_count": 2,
   "id": "nervous-steal",
   "metadata": {},
   "outputs": [
    {
     "data": {
      "text/plain": [
       "'dcba4321'"
      ]
     },
     "execution_count": 2,
     "metadata": {},
     "output_type": "execute_result"
    }
   ],
   "source": [
    "string = '1234abcd'\n",
    "string[::-1]"
   ]
  },
  {
   "cell_type": "markdown",
   "id": "illegal-allowance",
   "metadata": {},
   "source": [
    "### 2. Write a function that accepts a string and prints the number of uppercase letters and lowercase letters."
   ]
  },
  {
   "cell_type": "code",
   "execution_count": 3,
   "id": "nutritional-apache",
   "metadata": {},
   "outputs": [],
   "source": [
    "#Sample input: “abcSdefPghijQkl”\n",
    "#Expected Output: No. of Uppercase characters : 3 No. of Lower case Characters : 12"
   ]
  },
  {
   "cell_type": "code",
   "execution_count": 4,
   "id": "scientific-player",
   "metadata": {},
   "outputs": [
    {
     "name": "stdout",
     "output_type": "stream",
     "text": [
      "No. of Upper case characters : 3,No. of Lower case characters : 12\n"
     ]
    }
   ],
   "source": [
    "def up_low(s):      \n",
    "    u = sum(1 for i in s if i.isupper())\n",
    "    l = sum(1 for i in s if i.islower())\n",
    "    print( \"No. of Upper case characters : %s,No. of Lower case characters : %s\" % (u,l))\n",
    "\n",
    "up_low(\"abcSdefPghijQkl\")"
   ]
  },
  {
   "cell_type": "markdown",
   "id": "coordinated-state",
   "metadata": {},
   "source": [
    "### 3. Create a function that takes a list and returns a new list with unique elements of the first list."
   ]
  },
  {
   "cell_type": "code",
   "execution_count": 5,
   "id": "composed-romance",
   "metadata": {},
   "outputs": [
    {
     "name": "stdout",
     "output_type": "stream",
     "text": [
      "[1, 2, 3, 4, 5]\n"
     ]
    }
   ],
   "source": [
    "def unique_list(l):\n",
    "  x = []\n",
    "  for a in l:\n",
    "    if a not in x:\n",
    "      x.append(a)\n",
    "  return x\n",
    "\n",
    "print(unique_list([1,2,3,3,3,3,4,5]))"
   ]
  },
  {
   "cell_type": "markdown",
   "id": "declared-license",
   "metadata": {},
   "source": [
    "### 4. Write a program that accepts a hyphen-separated sequence of words as input and prints the words in a hyphen-separated sequence after sorting them alphabetically."
   ]
  },
  {
   "cell_type": "code",
   "execution_count": null,
   "id": "passive-bidding",
   "metadata": {},
   "outputs": [],
   "source": []
  },
  {
   "cell_type": "markdown",
   "id": "optical-liver",
   "metadata": {},
   "source": [
    "### 5. Write a program that accepts a sequence of lines as input and prints the lines after making all characters in the sentence capitalized."
   ]
  },
  {
   "cell_type": "code",
   "execution_count": 6,
   "id": "considered-tolerance",
   "metadata": {},
   "outputs": [],
   "source": [
    "#Sample input: Hello world Practice makes man perfect\n",
    "#Expected output: HELLO WORLD PRACTICE MAKES MAN PERFECT"
   ]
  },
  {
   "cell_type": "code",
   "execution_count": 17,
   "id": "going-culture",
   "metadata": {},
   "outputs": [
    {
     "name": "stdout",
     "output_type": "stream",
     "text": [
      "Hello world Practice makes man perfect\n",
      "\n",
      "HELLO WORLD PRACTICE MAKES MAN PERFECT\n"
     ]
    }
   ],
   "source": [
    "lines = []\n",
    "while True:\n",
    "    l = input()\n",
    "    if l:\n",
    "        lines.append(l.upper())\n",
    "    else:\n",
    "        break;\n",
    "\n",
    "for l in lines:\n",
    "    print(l)"
   ]
  },
  {
   "cell_type": "markdown",
   "id": "incoming-calculator",
   "metadata": {},
   "source": [
    "### 6. Define a function that can receive two integral numbers in string form and compute their sum and print it in the console."
   ]
  },
  {
   "cell_type": "code",
   "execution_count": 8,
   "id": "nearby-client",
   "metadata": {},
   "outputs": [
    {
     "name": "stdout",
     "output_type": "stream",
     "text": [
      "Sum =  30\n"
     ]
    }
   ],
   "source": [
    "def calculateSum (a,b):\n",
    "    s = int(a) + int(b)\n",
    "    return s \n",
    "\n",
    "num1 = \"10\"\n",
    "num2 = \"20\"\n",
    "\n",
    "# calculate sum\n",
    "sum = calculateSum (num1, num2)\n",
    "\n",
    "# print sum\n",
    "print (\"Sum = \", sum)"
   ]
  },
  {
   "cell_type": "markdown",
   "id": "fabulous-emphasis",
   "metadata": {},
   "source": [
    "### 7. Define a function that can accept two strings as input and print the string with the maximum lengthin the console. If two strings have the same length, then the function should print both the strings line by line."
   ]
  },
  {
   "cell_type": "code",
   "execution_count": null,
   "id": "included-viking",
   "metadata": {},
   "outputs": [],
   "source": []
  },
  {
   "cell_type": "markdown",
   "id": "extra-bracket",
   "metadata": {},
   "source": [
    "### 8. Define a function which can generate and print a tuple where the values are square of numbers between 1 and 20 (both 1 and 20 included)."
   ]
  },
  {
   "cell_type": "code",
   "execution_count": 9,
   "id": "empirical-physics",
   "metadata": {},
   "outputs": [
    {
     "name": "stdout",
     "output_type": "stream",
     "text": [
      "1 4 9 16 25 36 49 64 81 100 121 144 169 196 225 256 289 324 361 400\n"
     ]
    }
   ],
   "source": [
    "sqr_list = [] \n",
    "for i in range(1,21): \n",
    "  sqr_list.append(i*i) \n",
    " \n",
    "print(*sqr_list)"
   ]
  },
  {
   "cell_type": "markdown",
   "id": "sixth-produce",
   "metadata": {},
   "source": [
    "### 9. Write a function called showNumbers that takes a parameter called limit. It should print all the numbers between 0 and limit with a label to identify the even and odd numbers."
   ]
  },
  {
   "cell_type": "code",
   "execution_count": null,
   "id": "handled-helping",
   "metadata": {},
   "outputs": [],
   "source": []
  },
  {
   "cell_type": "code",
   "execution_count": null,
   "id": "ambient-spain",
   "metadata": {},
   "outputs": [],
   "source": []
  },
  {
   "cell_type": "code",
   "execution_count": 10,
   "id": "reserved-burton",
   "metadata": {},
   "outputs": [
    {
     "data": {
      "text/plain": [
       "'Sample input: show Numbers(3) (where limit=3)\\nExpected output:\\n0 EVEN\\n1 ODD\\n2 EVEN\\n3 ODD '"
      ]
     },
     "execution_count": 10,
     "metadata": {},
     "output_type": "execute_result"
    }
   ],
   "source": [
    "'''Sample input: show Numbers(3) (where limit=3)\n",
    "Expected output:\n",
    "0 EVEN\n",
    "1 ODD\n",
    "2 EVEN\n",
    "3 ODD '''\n"
   ]
  },
  {
   "cell_type": "markdown",
   "id": "signed-chemistry",
   "metadata": {},
   "source": [
    "### 10. Write a program which uses filter() to make a list whose elements are even numbers between 1 and 20 (both included)"
   ]
  },
  {
   "cell_type": "code",
   "execution_count": 11,
   "id": "blocked-prerequisite",
   "metadata": {},
   "outputs": [
    {
     "name": "stdout",
     "output_type": "stream",
     "text": [
      "[2, 4, 6, 8, 10, 12, 14, 16, 18, 20]\n"
     ]
    }
   ],
   "source": [
    "a = filter(lambda x:x%2==0,[1,2,3,4,5,6,7,8,9,10,11,12,13,14,15,16,17,18,19,20,21])\n",
    "print(list(a))"
   ]
  },
  {
   "cell_type": "markdown",
   "id": "acoustic-ceremony",
   "metadata": {},
   "source": [
    "### 11. Write a program which uses map() and filter() to make a list whose elements are squares of even numbers in [1,2,3,4,5,6,7,8,9,10]."
   ]
  },
  {
   "cell_type": "code",
   "execution_count": 12,
   "id": "thermal-venue",
   "metadata": {},
   "outputs": [],
   "source": [
    "#Hints: Use filter() to filter even elements of the given listUse map() to generate a list of squares of the numbers in the filtered list. Use lambda() to define anonymous functions."
   ]
  },
  {
   "cell_type": "code",
   "execution_count": 13,
   "id": "attended-collaboration",
   "metadata": {},
   "outputs": [
    {
     "name": "stdout",
     "output_type": "stream",
     "text": [
      "[2, 4, 6, 8, 10]\n"
     ]
    }
   ],
   "source": [
    "a = filter(lambda x: x%2==0,[1,2,3,4,5,6,7,8,9,10])\n",
    "print(list(a))"
   ]
  },
  {
   "cell_type": "code",
   "execution_count": 14,
   "id": "pointed-finish",
   "metadata": {},
   "outputs": [
    {
     "name": "stdout",
     "output_type": "stream",
     "text": [
      "[4, 16, 36, 64, 100]\n"
     ]
    }
   ],
   "source": [
    "a = map(lambda x: x**2,[2,4,6,8,10])\n",
    "print(list(a))"
   ]
  },
  {
   "cell_type": "markdown",
   "id": "reliable-category",
   "metadata": {},
   "source": [
    "### 12. Write a function to compute 5/0 and use try/except to catch the exceptions"
   ]
  },
  {
   "cell_type": "code",
   "execution_count": 15,
   "id": "understanding-knight",
   "metadata": {},
   "outputs": [
    {
     "name": "stdout",
     "output_type": "stream",
     "text": [
      "Can't divide by zero\n",
      "This is always executed\n"
     ]
    }
   ],
   "source": [
    "try:\n",
    "    k = 5/0 # raises divide by zero exception.\n",
    "    print(k)\n",
    "    \n",
    "# handles zerodivision exception    \n",
    "except ZeroDivisionError:   \n",
    "    print(\"Can't divide by zero\")\n",
    "        \n",
    "finally:\n",
    "    # this block is always executed \n",
    "    print('This is always executed') "
   ]
  },
  {
   "cell_type": "markdown",
   "id": "weekly-front",
   "metadata": {},
   "source": [
    "### 13. Flatten the list [1,2,3,4,5,6,7] into 1234567 using reduce()."
   ]
  },
  {
   "cell_type": "code",
   "execution_count": null,
   "id": "connected-gazette",
   "metadata": {},
   "outputs": [],
   "source": []
  },
  {
   "cell_type": "markdown",
   "id": "varied-detail",
   "metadata": {},
   "source": [
    "### 14. Write a program in Python to find the values which are not divisible by 3 but are a multiple of 7.Make sure to use only higher order functions."
   ]
  },
  {
   "cell_type": "code",
   "execution_count": null,
   "id": "beginning-failing",
   "metadata": {},
   "outputs": [],
   "source": []
  },
  {
   "cell_type": "markdown",
   "id": "public-smoke",
   "metadata": {},
   "source": [
    "### 15. Write a program in Python to multiply the elements of a list by itself using a traditional function and pass the function to map() to complete the operation."
   ]
  },
  {
   "cell_type": "code",
   "execution_count": null,
   "id": "animated-cyprus",
   "metadata": {},
   "outputs": [],
   "source": []
  },
  {
   "cell_type": "markdown",
   "id": "demonstrated-penalty",
   "metadata": {},
   "source": [
    "### 16. What is the output of the following codes:"
   ]
  },
  {
   "cell_type": "code",
   "execution_count": 16,
   "id": "ongoing-designation",
   "metadata": {},
   "outputs": [
    {
     "ename": "IndentationError",
     "evalue": "expected an indented block (<ipython-input-16-12b027c6cb2f>, line 2)",
     "output_type": "error",
     "traceback": [
      "\u001b[1;36m  File \u001b[1;32m\"<ipython-input-16-12b027c6cb2f>\"\u001b[1;36m, line \u001b[1;32m2\u001b[0m\n\u001b[1;33m    try:\u001b[0m\n\u001b[1;37m      ^\u001b[0m\n\u001b[1;31mIndentationError\u001b[0m\u001b[1;31m:\u001b[0m expected an indented block\n"
     ]
    }
   ],
   "source": [
    "def foo():\n",
    "try:\n",
    "return 1\n",
    "finally:\n",
    "return 2\n",
    "k = foo()\n",
    "print(k)"
   ]
  },
  {
   "cell_type": "code",
   "execution_count": null,
   "id": "portable-miniature",
   "metadata": {},
   "outputs": [],
   "source": [
    "def a():\n",
    "try:\n",
    "f(x, 4)\n",
    "finally:\n",
    "print('after f')\n",
    "print('after f?')\n",
    "a()"
   ]
  },
  {
   "cell_type": "code",
   "execution_count": null,
   "id": "generic-pittsburgh",
   "metadata": {},
   "outputs": [],
   "source": []
  }
 ],
 "metadata": {
  "kernelspec": {
   "display_name": "Python 3",
   "language": "python",
   "name": "python3"
  },
  "language_info": {
   "codemirror_mode": {
    "name": "ipython",
    "version": 3
   },
   "file_extension": ".py",
   "mimetype": "text/x-python",
   "name": "python",
   "nbconvert_exporter": "python",
   "pygments_lexer": "ipython3",
   "version": "3.7.9"
  }
 },
 "nbformat": 4,
 "nbformat_minor": 5
}
