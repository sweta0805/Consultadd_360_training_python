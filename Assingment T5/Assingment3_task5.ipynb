{
 "cells": [
  {
   "cell_type": "markdown",
   "id": "precise-quest",
   "metadata": {},
   "source": [
    "# TASK 5"
   ]
  },
  {
   "cell_type": "markdown",
   "id": "immediate-headquarters",
   "metadata": {},
   "source": [
    "## FILE HANDLING AND EXCEPTION HANDLING"
   ]
  },
  {
   "cell_type": "markdown",
   "id": "spiritual-nebraska",
   "metadata": {},
   "source": [
    "### 1. Write a program in Python to allow the error of syntax to be handled using exception handling.\n",
    "HINT: Use SyntaxError"
   ]
  },
  {
   "cell_type": "code",
   "execution_count": 1,
   "id": "unauthorized-australia",
   "metadata": {},
   "outputs": [
    {
     "name": "stdout",
     "output_type": "stream",
     "text": [
      "The entry is a\n",
      "<class 'ValueError'>\n",
      "Next entry.\n",
      "\n",
      "The entry is 0\n",
      "<class 'ZeroDivisionError'>\n",
      "Next entry.\n",
      "\n",
      "The entry is 2\n",
      "The reciprocal of 2 is 0.5\n"
     ]
    }
   ],
   "source": [
    "import sys\n",
    "\n",
    "randomList = ['a', 0, 2]\n",
    "\n",
    "for entry in randomList:\n",
    "    try:\n",
    "        print(\"The entry is\", entry)\n",
    "        r = 1/int(entry)\n",
    "        break\n",
    "    except:\n",
    "        print(sys.exc_info()[0])\n",
    "        print(\"Next entry.\")\n",
    "        print()\n",
    "print(\"The reciprocal of\", entry, \"is\", r)"
   ]
  },
  {
   "cell_type": "markdown",
   "id": "dental-danger",
   "metadata": {},
   "source": [
    "### 2. Write a program in Python to allow the user to open a file by using the argv module. If the entered name is incorrect throw an exception and ask them to enter the name again. Make sure to use read only mode."
   ]
  },
  {
   "cell_type": "code",
   "execution_count": 2,
   "id": "pediatric-uzbekistan",
   "metadata": {},
   "outputs": [
    {
     "name": "stdout",
     "output_type": "stream",
     "text": [
      "Entered filename is incorrect!\n"
     ]
    }
   ],
   "source": [
    "try:\n",
    "    f = open('demo.txt','r')\n",
    "    f = sys.argv[9]\n",
    "except:\n",
    "    print(\"Entered filename is incorrect!\")\n",
    "    \n",
    "else:\n",
    "    print(\"File doesn't exist\")"
   ]
  },
  {
   "cell_type": "markdown",
   "id": "lightweight-prompt",
   "metadata": {},
   "source": [
    "### 3. Write a program to handle an error if the user entered a number more than four digits it should return “The length is too short/long !!! Please provide only four digits”"
   ]
  },
  {
   "cell_type": "code",
   "execution_count": 7,
   "id": "fossil-seminar",
   "metadata": {},
   "outputs": [
    {
     "name": "stdout",
     "output_type": "stream",
     "text": [
      "Enter a 4 digit number =456\n",
      "456\n",
      "The length is too short/long! provide only four digits\n"
     ]
    }
   ],
   "source": [
    "try:\n",
    "    l = print(input('Enter a 4 digit number ='))\n",
    "    if l == 4:\n",
    "        print('Perfect!')\n",
    "    else:\n",
    "        raise ValueError\n",
    "except ValueError:\n",
    "    print('The length is too short/long! provide only four digits')"
   ]
  },
  {
   "cell_type": "markdown",
   "id": "colonial-senate",
   "metadata": {},
   "source": [
    "### 4. Create a login page backend to ask users to enter the username and password. Make sure to ask for a Re-Type Password and if the password is incorrect give chance to enter it again but it should not be more than 3 times."
   ]
  },
  {
   "cell_type": "code",
   "execution_count": null,
   "id": "concrete-financing",
   "metadata": {},
   "outputs": [],
   "source": []
  },
  {
   "cell_type": "markdown",
   "id": "czech-cookbook",
   "metadata": {},
   "source": [
    "### 5. Go through the link provided below to understand finally and raise concept:"
   ]
  },
  {
   "cell_type": "markdown",
   "id": "sacred-annex",
   "metadata": {},
   "source": [
    "https://www.programiz.com/python-programming/exception-handling"
   ]
  },
  {
   "cell_type": "markdown",
   "id": "loving-variation",
   "metadata": {},
   "source": [
    "### 6. Read doc.txt file using Python File handling concept and return only the even length string fromthe file. Consider the content of doc.txt as given below:\n",
    "\n",
    "Hello I am a file\n",
    "\n",
    "Where you need to return the data string\n",
    "\n",
    "Which is of even length\n",
    "\n",
    "Make sure you return the content in The same link as it is present."
   ]
  },
  {
   "cell_type": "code",
   "execution_count": null,
   "id": "japanese-bangladesh",
   "metadata": {},
   "outputs": [],
   "source": [
    "with open(\"doc.txt\",'w') as f:\n",
    "    f.write(\"Hello I am a file\\n\")\n",
    "    f.write(\"Where you need to return the data string\\n\")\n",
    "    f.write(\"Which is of even length\\n\")\n",
    "    f.write(\"Make sure you return the content in The same link as it is present\\n\")"
   ]
  },
  {
   "cell_type": "code",
   "execution_count": null,
   "id": "expired-profit",
   "metadata": {},
   "outputs": [],
   "source": [
    "doc = open(\"doc.txt\",\"r\")\n",
    "try:\n",
    "    for line in doc.readlines():\n",
    "        lines = line.strip('\\n')\n",
    "        words = line.split(\" \")\n",
    "        \n",
    "        if len(words)%2 == 0:\n",
    "            print(lines)\n",
    "        \n",
    "except:\n",
    "    pass"
   ]
  },
  {
   "cell_type": "code",
   "execution_count": null,
   "id": "stone-editor",
   "metadata": {},
   "outputs": [],
   "source": []
  }
 ],
 "metadata": {
  "kernelspec": {
   "display_name": "Python 3",
   "language": "python",
   "name": "python3"
  },
  "language_info": {
   "codemirror_mode": {
    "name": "ipython",
    "version": 3
   },
   "file_extension": ".py",
   "mimetype": "text/x-python",
   "name": "python",
   "nbconvert_exporter": "python",
   "pygments_lexer": "ipython3",
   "version": "3.7.9"
  }
 },
 "nbformat": 4,
 "nbformat_minor": 5
}
