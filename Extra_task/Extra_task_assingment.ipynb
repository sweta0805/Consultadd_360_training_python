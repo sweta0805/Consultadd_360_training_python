{
 "cells": [
  {
   "cell_type": "markdown",
   "id": "numerous-florida",
   "metadata": {},
   "source": [
    "# EXTRA TASK"
   ]
  },
  {
   "cell_type": "markdown",
   "id": "concrete-avenue",
   "metadata": {},
   "source": [
    "### 1. Create a list of given structure and get the Access list as provided below:\n",
    "\n",
    "x = [100,200,300,400,500,[1,2,3,4,5,[10,20,30,40,50],6,7,8,9],600,700,800]\n"
   ]
  },
  {
   "cell_type": "code",
   "execution_count": 1,
   "id": "united-accused",
   "metadata": {},
   "outputs": [],
   "source": [
    "x = [100,200,300,400,500,[1,2,3,4,5,[10,20,30,40,50],6,7,8,9],600,700,800]\n",
    "#Access list: [1, 2, 3, 4] Access list: [600, 700]\n",
    "#Access list: [100, 300, 500, 600, 800]\n",
    "#Access list: [[800, 700, 600, [1, 2, 3, 4, 5, [10, 20, 30, 40, 50], 6, 7, 8, 9], 500, 400, 300, 200, 100]]\n",
    "#Access list: [10]\n",
    "#Access list: [ ]"
   ]
  },
  {
   "cell_type": "code",
   "execution_count": 2,
   "id": "ongoing-appointment",
   "metadata": {},
   "outputs": [
    {
     "name": "stdout",
     "output_type": "stream",
     "text": [
      "[1, 2, 3, 4]\n"
     ]
    }
   ],
   "source": [
    "#Access list: [1, 2, 3, 4]\n",
    "print(x[5][:4])"
   ]
  },
  {
   "cell_type": "code",
   "execution_count": 3,
   "id": "interesting-stupid",
   "metadata": {},
   "outputs": [
    {
     "data": {
      "text/plain": [
       "[600, 700]"
      ]
     },
     "execution_count": 3,
     "metadata": {},
     "output_type": "execute_result"
    }
   ],
   "source": [
    "#Access list: [600, 700]\n",
    "x[-3:-1]"
   ]
  },
  {
   "cell_type": "code",
   "execution_count": 4,
   "id": "framed-struggle",
   "metadata": {},
   "outputs": [
    {
     "data": {
      "text/plain": [
       "[100, 300, 500, 600, 800]"
      ]
     },
     "execution_count": 4,
     "metadata": {},
     "output_type": "execute_result"
    }
   ],
   "source": [
    "#Access list: [100, 300, 500, 600, 800]\n",
    "x[::2]"
   ]
  },
  {
   "cell_type": "code",
   "execution_count": 5,
   "id": "frozen-short",
   "metadata": {},
   "outputs": [
    {
     "data": {
      "text/plain": [
       "[800,\n",
       " 700,\n",
       " 600,\n",
       " [1, 2, 3, 4, 5, [10, 20, 30, 40, 50], 6, 7, 8, 9],\n",
       " 500,\n",
       " 400,\n",
       " 300,\n",
       " 200,\n",
       " 100]"
      ]
     },
     "execution_count": 5,
     "metadata": {},
     "output_type": "execute_result"
    }
   ],
   "source": [
    "#Access list: [[800, 700, 600, [1, 2, 3, 4, 5, [10, 20, 30, 40, 50], 6, 7, 8, 9], 500, 400, 300, 200, 100]]\n",
    "x[::-1]"
   ]
  },
  {
   "cell_type": "code",
   "execution_count": 6,
   "id": "multiple-marketing",
   "metadata": {},
   "outputs": [
    {
     "data": {
      "text/plain": [
       "[]"
      ]
     },
     "execution_count": 6,
     "metadata": {},
     "output_type": "execute_result"
    }
   ],
   "source": [
    "#Access list: [ ]\n",
    "x[:0]"
   ]
  },
  {
   "cell_type": "markdown",
   "id": "proprietary-sphere",
   "metadata": {},
   "source": [
    "### 2. Create a list of thousand numbers using range and xrange and see the difference between each other."
   ]
  },
  {
   "cell_type": "markdown",
   "id": "micro-framework",
   "metadata": {},
   "source": [
    "(For reference:https://www.techbeamers.com/python-xrange-range/)"
   ]
  },
  {
   "cell_type": "markdown",
   "id": "uniform-inspiration",
   "metadata": {},
   "source": [
    "In Python 2.x, we had the two underlying methods to generate a list of integers within a given range.\n",
    "\n",
    "range()\n",
    "\n",
    "xrange()\n",
    "\n",
    "However, in Python 3, range() was decommissioned and xrange() renamed to range().\n",
    "\n",
    "Hence, in Python 3, we get a single function that could produce the numbers from a given range. It was none other than Python range function.\n",
    "\n",
    "The range() function in python 3.x is just a re-implementation of the xrange() of python 2.x. It actually works the same way as the xrange does.\n",
    "\n",
    "If you are using Python 2.x, then only the difference between xrange() and range() is meaningful for you."
   ]
  },
  {
   "cell_type": "code",
   "execution_count": 8,
   "id": "known-richards",
   "metadata": {},
   "outputs": [
    {
     "ename": "NameError",
     "evalue": "name 'xrange' is not defined",
     "output_type": "error",
     "traceback": [
      "\u001b[1;31m---------------------------------------------------------------------------\u001b[0m",
      "\u001b[1;31mNameError\u001b[0m                                 Traceback (most recent call last)",
      "\u001b[1;32m<ipython-input-8-3d6e9086e972>\u001b[0m in \u001b[0;36m<module>\u001b[1;34m\u001b[0m\n\u001b[0;32m      4\u001b[0m \u001b[1;33m\u001b[0m\u001b[0m\n\u001b[0;32m      5\u001b[0m \u001b[1;31m# initializing a with xrange()\u001b[0m\u001b[1;33m\u001b[0m\u001b[1;33m\u001b[0m\u001b[1;33m\u001b[0m\u001b[0m\n\u001b[1;32m----> 6\u001b[1;33m \u001b[0mx\u001b[0m \u001b[1;33m=\u001b[0m \u001b[0mxrange\u001b[0m\u001b[1;33m(\u001b[0m\u001b[1;36m1\u001b[0m\u001b[1;33m,\u001b[0m\u001b[1;36m1000\u001b[0m\u001b[1;33m)\u001b[0m\u001b[1;33m\u001b[0m\u001b[1;33m\u001b[0m\u001b[0m\n\u001b[0m\u001b[0;32m      7\u001b[0m \u001b[1;33m\u001b[0m\u001b[0m\n\u001b[0;32m      8\u001b[0m \u001b[1;31m# testing the type of a\u001b[0m\u001b[1;33m\u001b[0m\u001b[1;33m\u001b[0m\u001b[1;33m\u001b[0m\u001b[0m\n",
      "\u001b[1;31mNameError\u001b[0m: name 'xrange' is not defined"
     ]
    }
   ],
   "source": [
    "import sys\n",
    "# initializing a with range()\n",
    "r = range(1,1000)\n",
    " \n",
    "# initializing a with xrange()\n",
    "x = xrange(1,1000)\n",
    " \n",
    "# testing the type of a\n",
    "print (\"The return type of range() is : \")\n",
    "print (type(r))\n",
    " \n",
    "# testing the type of x\n",
    "print (\"The return type of xrange() is : \")\n",
    "print (type(x))"
   ]
  },
  {
   "cell_type": "markdown",
   "id": "cooked-promise",
   "metadata": {},
   "source": [
    "### 3. How Tuple is beneficial as compared to the list?"
   ]
  },
  {
   "cell_type": "markdown",
   "id": "integral-orange",
   "metadata": {},
   "source": [
    ".Tuples are fined size in nature i.e. we can't add/delete elements to/from a tuple.\n",
    "\n",
    ".We can search any element in a tuple.\n",
    "\n",
    ".Tuples are faster than lists, because they have a constant set of values.\n",
    "\n",
    ".Tuples can be used as dictionary keys, because they contain immutable values like strings, numbers, etc."
   ]
  },
  {
   "cell_type": "markdown",
   "id": "environmental-terror",
   "metadata": {},
   "source": [
    "### 4. Write a program in Python to iterate through the list of numbers in the range of 1,100 and printthe number which is divisible by 3 and is a multiple of 2."
   ]
  },
  {
   "cell_type": "code",
   "execution_count": 9,
   "id": "relative-columbia",
   "metadata": {},
   "outputs": [
    {
     "name": "stdout",
     "output_type": "stream",
     "text": [
      "6\n",
      "12\n",
      "18\n",
      "24\n",
      "30\n",
      "36\n",
      "42\n",
      "48\n",
      "54\n",
      "60\n",
      "66\n",
      "72\n",
      "78\n",
      "84\n",
      "90\n",
      "96\n"
     ]
    }
   ],
   "source": [
    "for i in range(1,101):\n",
    "    if i%3 ==0 and i%2==0:\n",
    "        print(i)"
   ]
  },
  {
   "cell_type": "markdown",
   "id": "combined-breathing",
   "metadata": {},
   "source": [
    "### 5. Write a program in Python to reverse a string and print only the vowel alphabet if it exists in the string with their index."
   ]
  },
  {
   "cell_type": "code",
   "execution_count": 10,
   "id": "coastal-nickname",
   "metadata": {},
   "outputs": [
    {
     "data": {
      "text/plain": [
       "'nohtyp'"
      ]
     },
     "execution_count": 10,
     "metadata": {},
     "output_type": "execute_result"
    }
   ],
   "source": [
    "string = \"python\"\n",
    "string[::-1]"
   ]
  },
  {
   "cell_type": "code",
   "execution_count": 11,
   "id": "pressing-person",
   "metadata": {},
   "outputs": [
    {
     "name": "stdout",
     "output_type": "stream",
     "text": [
      "pragrom\n",
      "Python\n",
      "etareti\n",
      "ASU\n"
     ]
    }
   ],
   "source": [
    "def reverse_vowels(str1):\n",
    "    vowels = \"\"\n",
    "    for char in str1:\n",
    "        if char in \"aeiouAEIOU\":\n",
    "            vowels += char\n",
    "    result_string = \"\"\n",
    "    for char in str1:\n",
    "        if char in \"aeiouAEIOU\":\n",
    "            result_string += vowels[-1]\n",
    "            vowels = vowels[:-1]\n",
    "        else:\n",
    "            result_string += char\n",
    "    return result_string\n",
    "print(reverse_vowels(\"program\"))\n",
    "print(reverse_vowels(\"Python\"))\n",
    "print(reverse_vowels(\"iterate\"))\n",
    "print(reverse_vowels(\"USA\"))"
   ]
  },
  {
   "cell_type": "markdown",
   "id": "concrete-transparency",
   "metadata": {},
   "source": [
    "### 6. Write a program in Python to iterate through the string “hello my name is abcde” and print the string which is having an even length."
   ]
  },
  {
   "cell_type": "code",
   "execution_count": 12,
   "id": "corresponding-geometry",
   "metadata": {},
   "outputs": [
    {
     "name": "stdout",
     "output_type": "stream",
     "text": [
      "my\n",
      "name\n",
      "is\n",
      "python\n",
      "is\n",
      "language\n"
     ]
    }
   ],
   "source": [
    "def printWords(s):\n",
    "      \n",
    "    # split the string \n",
    "    s = s.split(\" \") #\"python is a programming language\" O/P [\"python\",\"is\",\"a\",\"programming\",\"language\"]      \n",
    "    # iterate in words of string \n",
    "    for word in s: \n",
    "          \n",
    "        if len(word)%2==0:\n",
    "            print(word) \n",
    "printWords( \"hello my name is abcde\" )\n",
    "printWords(\"python is a programming language\")"
   ]
  },
  {
   "cell_type": "markdown",
   "id": "swiss-hammer",
   "metadata": {},
   "source": [
    "### 7. Write a program in python to print the pair of numbers whose sum is equal to the result number that is let's say 8."
   ]
  },
  {
   "cell_type": "code",
   "execution_count": 13,
   "id": "genetic-lottery",
   "metadata": {},
   "outputs": [],
   "source": [
    "#x=[1,2,3,4,5,6,7,8,9,-1]"
   ]
  },
  {
   "cell_type": "code",
   "execution_count": null,
   "id": "tired-instruction",
   "metadata": {},
   "outputs": [],
   "source": []
  },
  {
   "cell_type": "markdown",
   "id": "medical-segment",
   "metadata": {},
   "source": [
    "### 9.Write a program to find out the occurrence of a specific character from an alphanumeric string."
   ]
  },
  {
   "cell_type": "code",
   "execution_count": 14,
   "id": "anonymous-hands",
   "metadata": {},
   "outputs": [],
   "source": [
    "#Sample input: 12abcbacbaba344ab\n",
    "#Expected output: a=5 b=5 c=2"
   ]
  },
  {
   "cell_type": "code",
   "execution_count": 15,
   "id": "first-conviction",
   "metadata": {},
   "outputs": [
    {
     "name": "stdout",
     "output_type": "stream",
     "text": [
      "Occurrence of all characters in GeeksforGeeks is = {'4': 2, '3': 1, '1': 1, '2': 1, 'b': 5, 'c': 2, 'a': 5}\n"
     ]
    }
   ],
   "source": [
    "inp_str = \"12abcbacbaba344ab\"\n",
    "  \n",
    "# using set() + count() to get count of each element in string \n",
    "out = {x : inp_str.count(x) for x in set(inp_str )} \n",
    "  \n",
    "print (\"Occurrence of all characters in GeeksforGeeks is = \"+ str(out)) "
   ]
  },
  {
   "cell_type": "markdown",
   "id": "hungry-seafood",
   "metadata": {},
   "source": [
    "### 10. Generate and print another tuple whose values are even numbers in the given tuple(1,2,3,4,5,6,7,8,9,10)."
   ]
  },
  {
   "cell_type": "code",
   "execution_count": 16,
   "id": "municipal-photography",
   "metadata": {},
   "outputs": [
    {
     "name": "stdout",
     "output_type": "stream",
     "text": [
      "Tuple Items =  (1, 2, 3, 4, 5, 6, 7, 8, 9, 10)\n",
      "\n",
      "The Even Numbers in this even_Tuple Tuple are:\n",
      "2  4  6  8  10  "
     ]
    }
   ],
   "source": [
    "even_Tuple = (1,2,3,4,5,6,7,8,9,10)\n",
    "print(\"Tuple Items = \", even_Tuple)\n",
    "\n",
    "print(\"\\nThe Even Numbers in this even_Tuple Tuple are:\")\n",
    "for i in range(len(even_Tuple)):\n",
    "    if(even_Tuple[i] % 2 == 0):\n",
    "        print(even_Tuple[i], end = \"  \")"
   ]
  },
  {
   "cell_type": "code",
   "execution_count": null,
   "id": "shared-community",
   "metadata": {},
   "outputs": [],
   "source": []
  }
 ],
 "metadata": {
  "kernelspec": {
   "display_name": "Python 3",
   "language": "python",
   "name": "python3"
  },
  "language_info": {
   "codemirror_mode": {
    "name": "ipython",
    "version": 3
   },
   "file_extension": ".py",
   "mimetype": "text/x-python",
   "name": "python",
   "nbconvert_exporter": "python",
   "pygments_lexer": "ipython3",
   "version": "3.7.9"
  }
 },
 "nbformat": 4,
 "nbformat_minor": 5
}
